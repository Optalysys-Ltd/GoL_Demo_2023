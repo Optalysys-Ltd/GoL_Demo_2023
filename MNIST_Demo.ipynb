{
  "nbformat": 4,
  "nbformat_minor": 0,
  "metadata": {
    "colab": {
      "provenance": []
    },
    "kernelspec": {
      "name": "python3",
      "display_name": "Python 3"
    },
    "language_info": {
      "name": "python"
    }
  },
  "cells": [
    {
      "cell_type": "markdown",
      "source": [
        "# Build Python Library for Homomorphic Encryption\n",
        "\n",
        "In this demo, we use the python version of SEAL (Simple Encryption Arithmetic Library) which is developed by Microsoft. Python version is from https://github.com/Huelse/SEAL-Python."
      ],
      "metadata": {
        "id": "5n_q8n5bHUBg"
      }
    },
    {
      "cell_type": "code",
      "execution_count": null,
      "metadata": {
        "colab": {
          "base_uri": "https://localhost:8080/"
        },
        "id": "olvrLl8hmRcH",
        "outputId": "80f8bece-ff3d-4e2d-bc3b-0196cc726998"
      },
      "outputs": [
        {
          "output_type": "stream",
          "name": "stdout",
          "text": [
            "Cloning into 'SEAL-Python'...\n",
            "remote: Enumerating objects: 1628, done.\u001b[K\n",
            "remote: Counting objects: 100% (252/252), done.\u001b[K\n",
            "remote: Compressing objects: 100% (86/86), done.\u001b[K\n",
            "remote: Total 1628 (delta 176), reused 191 (delta 162), pack-reused 1376\u001b[K\n",
            "Receiving objects: 100% (1628/1628), 8.68 MiB | 18.17 MiB/s, done.\n",
            "Resolving deltas: 100% (882/882), done.\n",
            "/content/SEAL-Python\n",
            "Requirement already satisfied: numpy in /usr/local/lib/python3.10/dist-packages (1.22.4)\n",
            "Collecting pybind11\n",
            "  Downloading pybind11-2.11.0-py3-none-any.whl (227 kB)\n",
            "\u001b[2K     \u001b[90m━━━━━━━━━━━━━━━━━━━━━━━━━━━━━━━━━━━━━━━\u001b[0m \u001b[32m227.7/227.7 kB\u001b[0m \u001b[31m6.6 MB/s\u001b[0m eta \u001b[36m0:00:00\u001b[0m\n",
            "\u001b[?25hInstalling collected packages: pybind11\n",
            "Successfully installed pybind11-2.11.0\n",
            "Submodule 'SEAL' (https://github.com/microsoft/SEAL.git) registered for path 'SEAL'\n",
            "Submodule 'pybind11' (https://github.com/pybind/pybind11.git) registered for path 'pybind11'\n",
            "Cloning into '/content/SEAL-Python/SEAL'...\n",
            "Cloning into '/content/SEAL-Python/pybind11'...\n",
            "Submodule path 'SEAL': checked out '206648d0e4634e5c61dcf9370676630268290b59'\n",
            "Submodule path 'pybind11': checked out 'be97c5a98b4b252c524566f508b5c79410d118c6'\n",
            "/content/SEAL-Python/SEAL\n",
            "-- Build type (CMAKE_BUILD_TYPE): Release\n",
            "-- The CXX compiler identification is GNU 9.4.0\n",
            "-- The C compiler identification is GNU 9.4.0\n",
            "-- Detecting CXX compiler ABI info\n",
            "-- Detecting CXX compiler ABI info - done\n",
            "-- Check for working CXX compiler: /usr/bin/c++ - skipped\n",
            "-- Detecting CXX compile features\n",
            "-- Detecting CXX compile features - done\n",
            "-- Detecting C compiler ABI info\n",
            "-- Detecting C compiler ABI info - done\n",
            "-- Check for working C compiler: /usr/bin/cc - skipped\n",
            "-- Detecting C compile features\n",
            "-- Detecting C compile features - done\n",
            "-- Microsoft SEAL debug mode: OFF\n",
            "-- SEAL_USE_CXX17: ON\n",
            "-- SEAL_BUILD_DEPS: ON\n",
            "-- SEAL_USE_MSGSL: OFF\n",
            "-- SEAL_USE_ZLIB: OFF\n",
            "-- SEAL_USE_ZSTD: ON\n",
            "-- Zstandard: download ...\n",
            "-- ZSTD VERSION: 1.5.2\n",
            "-- Performing Test CXX_FLAG_STD_CPLUSPLUS11\n",
            "-- Performing Test CXX_FLAG_STD_CPLUSPLUS11 - Success\n",
            "-- Performing Test C_FLAG_STD_C99\n",
            "-- Performing Test C_FLAG_STD_C99 - Success\n",
            "-- Performing Test C_FLAG_WALL\n",
            "-- Performing Test C_FLAG_WALL - Success\n",
            "-- Performing Test CXX_FLAG_WALL\n",
            "-- Performing Test CXX_FLAG_WALL - Success\n",
            "-- Performing Test C_FLAG_WEXTRA\n",
            "-- Performing Test C_FLAG_WEXTRA - Success\n",
            "-- Performing Test CXX_FLAG_WEXTRA\n",
            "-- Performing Test CXX_FLAG_WEXTRA - Success\n",
            "-- Performing Test C_FLAG_WUNDEF\n",
            "-- Performing Test C_FLAG_WUNDEF - Success\n",
            "-- Performing Test CXX_FLAG_WUNDEF\n",
            "-- Performing Test CXX_FLAG_WUNDEF - Success\n",
            "-- Performing Test C_FLAG_WSHADOW\n",
            "-- Performing Test C_FLAG_WSHADOW - Success\n",
            "-- Performing Test CXX_FLAG_WSHADOW\n",
            "-- Performing Test CXX_FLAG_WSHADOW - Success\n",
            "-- Performing Test C_FLAG_WCAST_ALIGN\n",
            "-- Performing Test C_FLAG_WCAST_ALIGN - Success\n",
            "-- Performing Test CXX_FLAG_WCAST_ALIGN\n",
            "-- Performing Test CXX_FLAG_WCAST_ALIGN - Success\n",
            "-- Performing Test C_FLAG_WCAST_QUAL\n",
            "-- Performing Test C_FLAG_WCAST_QUAL - Success\n",
            "-- Performing Test CXX_FLAG_WCAST_QUAL\n",
            "-- Performing Test CXX_FLAG_WCAST_QUAL - Success\n",
            "-- Performing Test C_FLAG_WSTRICT_PROTOTYPES\n",
            "-- Performing Test C_FLAG_WSTRICT_PROTOTYPES - Success\n",
            "-- CMAKE_INSTALL_PREFIX: /usr/local\n",
            "-- CMAKE_INSTALL_LIBDIR: lib\n",
            "-- ZSTD_LEGACY_SUPPORT not defined!\n",
            "-- ZSTD_MULTITHREAD_SUPPORT is disabled\n",
            "-- The ASM compiler identification is GNU\n",
            "-- Found assembler: /usr/bin/cc\n",
            "-- SEAL_USE_INTEL_HEXL: OFF\n",
            "-- BUILD_SHARED_LIBS: OFF\n",
            "-- SEAL_THROW_ON_TRANSPARENT_CIPHERTEXT: ON\n",
            "-- SEAL_USE_GAUSSIAN_NOISE: OFF\n",
            "-- SEAL_DEFAULT_PRNG: Blake2xb\n",
            "-- SEAL_AVOID_BRANCHING: OFF\n",
            "-- x86intrin.h - found\n",
            "-- SEAL_USE_INTRIN: ON\n",
            "-- Performing Test SEAL_MEMSET_S_FOUND\n",
            "-- Performing Test SEAL_MEMSET_S_FOUND - Failed\n",
            "-- Looking for explicit_bzero\n",
            "-- Looking for explicit_bzero - found\n",
            "-- Looking for explicit_memset\n",
            "-- Looking for explicit_memset - not found\n",
            "-- SEAL_USE_MEMSET_S: OFF\n",
            "-- SEAL_USE_EXPLICIT_BZERO: ON\n",
            "-- SEAL_USE_EXPLICIT_MEMSET: OFF\n",
            "-- Performing Test CMAKE_HAVE_LIBC_PTHREAD\n",
            "-- Performing Test CMAKE_HAVE_LIBC_PTHREAD - Failed\n",
            "-- Check if compiler accepts -pthread\n",
            "-- Check if compiler accepts -pthread - yes\n",
            "-- Found Threads: TRUE  \n",
            "-- SEAL_BUILD_SEAL_C: OFF\n",
            "-- SEAL_BUILD_EXAMPLES: OFF\n",
            "-- SEAL_BUILD_TESTS: OFF\n",
            "-- SEAL_BUILD_BENCH: OFF\n",
            "-- Configuring done\n",
            "-- Generating done\n",
            "-- Build files have been written to: /content/SEAL-Python/SEAL/build\n",
            "[  1%] \u001b[32mBuilding C object thirdparty/zstd-build/lib/CMakeFiles/libzstd_static.dir/__/__/__/lib/common/debug.c.o\u001b[0m\n",
            "[  2%] \u001b[32mBuilding C object thirdparty/zstd-build/lib/CMakeFiles/libzstd_static.dir/__/__/__/lib/common/entropy_common.c.o\u001b[0m\n",
            "[  4%] \u001b[32mBuilding C object thirdparty/zstd-build/lib/CMakeFiles/libzstd_static.dir/__/__/__/lib/common/error_private.c.o\u001b[0m\n",
            "[  5%] \u001b[32mBuilding C object thirdparty/zstd-build/lib/CMakeFiles/libzstd_static.dir/__/__/__/lib/common/fse_decompress.c.o\u001b[0m\n",
            "[  7%] \u001b[32mBuilding C object thirdparty/zstd-build/lib/CMakeFiles/libzstd_static.dir/__/__/__/lib/common/pool.c.o\u001b[0m\n",
            "[  8%] \u001b[32mBuilding C object thirdparty/zstd-build/lib/CMakeFiles/libzstd_static.dir/__/__/__/lib/common/threading.c.o\u001b[0m\n",
            "[  9%] \u001b[32mBuilding C object thirdparty/zstd-build/lib/CMakeFiles/libzstd_static.dir/__/__/__/lib/common/xxhash.c.o\u001b[0m\n",
            "[ 11%] \u001b[32mBuilding C object thirdparty/zstd-build/lib/CMakeFiles/libzstd_static.dir/__/__/__/lib/common/zstd_common.c.o\u001b[0m\n",
            "[ 12%] \u001b[32mBuilding C object thirdparty/zstd-build/lib/CMakeFiles/libzstd_static.dir/__/__/__/lib/compress/fse_compress.c.o\u001b[0m\n",
            "[ 14%] \u001b[32mBuilding C object thirdparty/zstd-build/lib/CMakeFiles/libzstd_static.dir/__/__/__/lib/compress/hist.c.o\u001b[0m\n",
            "[ 15%] \u001b[32mBuilding C object thirdparty/zstd-build/lib/CMakeFiles/libzstd_static.dir/__/__/__/lib/compress/huf_compress.c.o\u001b[0m\n",
            "[ 16%] \u001b[32mBuilding C object thirdparty/zstd-build/lib/CMakeFiles/libzstd_static.dir/__/__/__/lib/compress/zstd_compress.c.o\u001b[0m\n",
            "[ 18%] \u001b[32mBuilding C object thirdparty/zstd-build/lib/CMakeFiles/libzstd_static.dir/__/__/__/lib/compress/zstd_compress_literals.c.o\u001b[0m\n",
            "[ 19%] \u001b[32mBuilding C object thirdparty/zstd-build/lib/CMakeFiles/libzstd_static.dir/__/__/__/lib/compress/zstd_compress_sequences.c.o\u001b[0m\n",
            "[ 21%] \u001b[32mBuilding C object thirdparty/zstd-build/lib/CMakeFiles/libzstd_static.dir/__/__/__/lib/compress/zstd_compress_superblock.c.o\u001b[0m\n",
            "[ 22%] \u001b[32mBuilding C object thirdparty/zstd-build/lib/CMakeFiles/libzstd_static.dir/__/__/__/lib/compress/zstd_double_fast.c.o\u001b[0m\n",
            "[ 23%] \u001b[32mBuilding C object thirdparty/zstd-build/lib/CMakeFiles/libzstd_static.dir/__/__/__/lib/compress/zstd_fast.c.o\u001b[0m\n",
            "[ 25%] \u001b[32mBuilding C object thirdparty/zstd-build/lib/CMakeFiles/libzstd_static.dir/__/__/__/lib/compress/zstd_lazy.c.o\u001b[0m\n",
            "[ 26%] \u001b[32mBuilding C object thirdparty/zstd-build/lib/CMakeFiles/libzstd_static.dir/__/__/__/lib/compress/zstd_ldm.c.o\u001b[0m\n",
            "[ 28%] \u001b[32mBuilding C object thirdparty/zstd-build/lib/CMakeFiles/libzstd_static.dir/__/__/__/lib/compress/zstd_opt.c.o\u001b[0m\n",
            "[ 29%] \u001b[32mBuilding C object thirdparty/zstd-build/lib/CMakeFiles/libzstd_static.dir/__/__/__/lib/compress/zstdmt_compress.c.o\u001b[0m\n",
            "[ 30%] \u001b[32mBuilding C object thirdparty/zstd-build/lib/CMakeFiles/libzstd_static.dir/__/__/__/lib/decompress/huf_decompress.c.o\u001b[0m\n",
            "[ 32%] \u001b[32mBuilding ASM object thirdparty/zstd-build/lib/CMakeFiles/libzstd_static.dir/__/__/__/lib/decompress/huf_decompress_amd64.S.o\u001b[0m\n",
            "[ 33%] \u001b[32mBuilding C object thirdparty/zstd-build/lib/CMakeFiles/libzstd_static.dir/__/__/__/lib/decompress/zstd_ddict.c.o\u001b[0m\n",
            "[ 35%] \u001b[32mBuilding C object thirdparty/zstd-build/lib/CMakeFiles/libzstd_static.dir/__/__/__/lib/decompress/zstd_decompress.c.o\u001b[0m\n",
            "[ 36%] \u001b[32mBuilding C object thirdparty/zstd-build/lib/CMakeFiles/libzstd_static.dir/__/__/__/lib/decompress/zstd_decompress_block.c.o\u001b[0m\n",
            "[ 38%] \u001b[32mBuilding C object thirdparty/zstd-build/lib/CMakeFiles/libzstd_static.dir/__/__/__/lib/dictBuilder/cover.c.o\u001b[0m\n",
            "[ 39%] \u001b[32mBuilding C object thirdparty/zstd-build/lib/CMakeFiles/libzstd_static.dir/__/__/__/lib/dictBuilder/divsufsort.c.o\u001b[0m\n",
            "[ 40%] \u001b[32mBuilding C object thirdparty/zstd-build/lib/CMakeFiles/libzstd_static.dir/__/__/__/lib/dictBuilder/fastcover.c.o\u001b[0m\n",
            "[ 42%] \u001b[32mBuilding C object thirdparty/zstd-build/lib/CMakeFiles/libzstd_static.dir/__/__/__/lib/dictBuilder/zdict.c.o\u001b[0m\n",
            "[ 43%] \u001b[32m\u001b[1mLinking C static library ../../../lib/libzstd.a\u001b[0m\n",
            "[ 43%] Built target libzstd_static\n",
            "[ 45%] \u001b[32mBuilding CXX object CMakeFiles/seal.dir/native/src/seal/batchencoder.cpp.o\u001b[0m\n",
            "[ 46%] \u001b[32mBuilding CXX object CMakeFiles/seal.dir/native/src/seal/ciphertext.cpp.o\u001b[0m\n",
            "[ 47%] \u001b[32mBuilding CXX object CMakeFiles/seal.dir/native/src/seal/ckks.cpp.o\u001b[0m\n",
            "[ 49%] \u001b[32mBuilding CXX object CMakeFiles/seal.dir/native/src/seal/context.cpp.o\u001b[0m\n",
            "[ 50%] \u001b[32mBuilding CXX object CMakeFiles/seal.dir/native/src/seal/decryptor.cpp.o\u001b[0m\n",
            "[ 52%] \u001b[32mBuilding CXX object CMakeFiles/seal.dir/native/src/seal/encryptionparams.cpp.o\u001b[0m\n",
            "[ 53%] \u001b[32mBuilding CXX object CMakeFiles/seal.dir/native/src/seal/encryptor.cpp.o\u001b[0m\n",
            "[ 54%] \u001b[32mBuilding CXX object CMakeFiles/seal.dir/native/src/seal/evaluator.cpp.o\u001b[0m\n",
            "[ 56%] \u001b[32mBuilding CXX object CMakeFiles/seal.dir/native/src/seal/keygenerator.cpp.o\u001b[0m\n",
            "[ 57%] \u001b[32mBuilding CXX object CMakeFiles/seal.dir/native/src/seal/kswitchkeys.cpp.o\u001b[0m\n",
            "[ 59%] \u001b[32mBuilding CXX object CMakeFiles/seal.dir/native/src/seal/memorymanager.cpp.o\u001b[0m\n",
            "[ 60%] \u001b[32mBuilding CXX object CMakeFiles/seal.dir/native/src/seal/modulus.cpp.o\u001b[0m\n",
            "[ 61%] \u001b[32mBuilding CXX object CMakeFiles/seal.dir/native/src/seal/plaintext.cpp.o\u001b[0m\n",
            "[ 63%] \u001b[32mBuilding CXX object CMakeFiles/seal.dir/native/src/seal/randomgen.cpp.o\u001b[0m\n",
            "[ 64%] \u001b[32mBuilding CXX object CMakeFiles/seal.dir/native/src/seal/serialization.cpp.o\u001b[0m\n",
            "[ 66%] \u001b[32mBuilding CXX object CMakeFiles/seal.dir/native/src/seal/valcheck.cpp.o\u001b[0m\n",
            "[ 67%] \u001b[32mBuilding C object CMakeFiles/seal.dir/native/src/seal/util/blake2b.c.o\u001b[0m\n",
            "[ 69%] \u001b[32mBuilding C object CMakeFiles/seal.dir/native/src/seal/util/blake2xb.c.o\u001b[0m\n",
            "[ 70%] \u001b[32mBuilding CXX object CMakeFiles/seal.dir/native/src/seal/util/clipnormal.cpp.o\u001b[0m\n",
            "[ 71%] \u001b[32mBuilding CXX object CMakeFiles/seal.dir/native/src/seal/util/common.cpp.o\u001b[0m\n",
            "[ 73%] \u001b[32mBuilding CXX object CMakeFiles/seal.dir/native/src/seal/util/croots.cpp.o\u001b[0m\n",
            "[ 74%] \u001b[32mBuilding C object CMakeFiles/seal.dir/native/src/seal/util/fips202.c.o\u001b[0m\n",
            "[ 76%] \u001b[32mBuilding CXX object CMakeFiles/seal.dir/native/src/seal/util/globals.cpp.o\u001b[0m\n",
            "[ 77%] \u001b[32mBuilding CXX object CMakeFiles/seal.dir/native/src/seal/util/galois.cpp.o\u001b[0m\n",
            "[ 78%] \u001b[32mBuilding CXX object CMakeFiles/seal.dir/native/src/seal/util/hash.cpp.o\u001b[0m\n",
            "[ 80%] \u001b[32mBuilding CXX object CMakeFiles/seal.dir/native/src/seal/util/iterator.cpp.o\u001b[0m\n",
            "[ 81%] \u001b[32mBuilding CXX object CMakeFiles/seal.dir/native/src/seal/util/mempool.cpp.o\u001b[0m\n",
            "[ 83%] \u001b[32mBuilding CXX object CMakeFiles/seal.dir/native/src/seal/util/numth.cpp.o\u001b[0m\n",
            "[ 84%] \u001b[32mBuilding CXX object CMakeFiles/seal.dir/native/src/seal/util/polyarithsmallmod.cpp.o\u001b[0m\n",
            "[ 85%] \u001b[32mBuilding CXX object CMakeFiles/seal.dir/native/src/seal/util/rlwe.cpp.o\u001b[0m\n",
            "[ 87%] \u001b[32mBuilding CXX object CMakeFiles/seal.dir/native/src/seal/util/rns.cpp.o\u001b[0m\n",
            "[ 88%] \u001b[32mBuilding CXX object CMakeFiles/seal.dir/native/src/seal/util/scalingvariant.cpp.o\u001b[0m\n",
            "[ 90%] \u001b[32mBuilding CXX object CMakeFiles/seal.dir/native/src/seal/util/ntt.cpp.o\u001b[0m\n",
            "[ 91%] \u001b[32mBuilding CXX object CMakeFiles/seal.dir/native/src/seal/util/streambuf.cpp.o\u001b[0m\n",
            "[ 92%] \u001b[32mBuilding CXX object CMakeFiles/seal.dir/native/src/seal/util/uintarith.cpp.o\u001b[0m\n",
            "[ 94%] \u001b[32mBuilding CXX object CMakeFiles/seal.dir/native/src/seal/util/uintarithmod.cpp.o\u001b[0m\n",
            "[ 95%] \u001b[32mBuilding CXX object CMakeFiles/seal.dir/native/src/seal/util/uintarithsmallmod.cpp.o\u001b[0m\n",
            "[ 97%] \u001b[32mBuilding CXX object CMakeFiles/seal.dir/native/src/seal/util/uintcore.cpp.o\u001b[0m\n",
            "[ 98%] \u001b[32mBuilding CXX object CMakeFiles/seal.dir/native/src/seal/util/ztools.cpp.o\u001b[0m\n",
            "[100%] \u001b[32m\u001b[1mLinking CXX static library lib/libseal-4.1.a\u001b[0m\n",
            "[100%] Built target seal\n",
            "/content/SEAL-Python\n",
            "running build_ext\n",
            "x86_64-linux-gnu-gcc -pthread -Wno-unused-result -Wsign-compare -DNDEBUG -g -fwrapv -O2 -Wall -g -fstack-protector-strong -Wformat -Werror=format-security -g -fwrapv -O2 -fPIC -I/usr/include/python3.10 -c flagcheck.cpp -o flagcheck.o -std=c++17\n",
            "building 'seal' extension\n",
            "creating build\n",
            "creating build/temp.linux-x86_64-cpython-310\n",
            "creating build/temp.linux-x86_64-cpython-310/src\n",
            "x86_64-linux-gnu-gcc -pthread -Wno-unused-result -Wsign-compare -DNDEBUG -g -fwrapv -O2 -Wall -g -fstack-protector-strong -Wformat -Werror=format-security -g -fwrapv -O2 -fPIC -DVERSION_INFO=4.0.0 -I/usr/include/python3.10 -Ipybind11/include -ISEAL/native/src -ISEAL/build/native/src -I/usr/local/lib/python3.10/dist-packages/pybind11/include -I/usr/include/python3.10 -c src/wrapper.cpp -o build/temp.linux-x86_64-cpython-310/src/wrapper.o -std=c++17 -fvisibility=hidden -g0 -std=c++17\n",
            "creating build/lib.linux-x86_64-cpython-310\n",
            "x86_64-linux-gnu-g++ -pthread -shared -Wl,-O1 -Wl,-Bsymbolic-functions -Wl,-Bsymbolic-functions -g -fwrapv -O2 build/temp.linux-x86_64-cpython-310/src/wrapper.o SEAL/build/lib/libseal-4.1.a SEAL/build/lib/libzstd.a -L/usr/lib/x86_64-linux-gnu -o build/lib.linux-x86_64-cpython-310/seal.cpython-310-x86_64-linux-gnu.so\n",
            "copying build/lib.linux-x86_64-cpython-310/seal.cpython-310-x86_64-linux-gnu.so -> \n"
          ]
        }
      ],
      "source": [
        "!git clone https://github.com/Huelse/SEAL-Python.git\n",
        "%cd SEAL-Python\n",
        "!pip3 install numpy pybind11\n",
        "!git submodule update --init --recursive\n",
        "%cd SEAL\n",
        "!cmake -S . -B build -DSEAL_USE_MSGSL=OFF -DSEAL_USE_ZLIB=OFF\n",
        "!cmake --build build\n",
        "%cd ..\n",
        "!python3 setup.py build_ext -i"
      ]
    },
    {
      "cell_type": "code",
      "source": [
        "%cd /content\n",
        "!git clone https://github.com/KyoohyungHan/DemoForEyesOffDataSummit.git"
      ],
      "metadata": {
        "colab": {
          "base_uri": "https://localhost:8080/"
        },
        "id": "YKcQOGnzR0qK",
        "outputId": "9a768d86-2f30-4f58-a0fe-446778c68f75"
      },
      "execution_count": null,
      "outputs": [
        {
          "output_type": "stream",
          "name": "stdout",
          "text": [
            "/content\n",
            "Cloning into 'DemoForEyesOffDataSummit'...\n",
            "remote: Enumerating objects: 9, done.\u001b[K\n",
            "remote: Counting objects: 100% (9/9), done.\u001b[K\n",
            "remote: Compressing objects: 100% (8/8), done.\u001b[K\n",
            "remote: Total 9 (delta 0), reused 9 (delta 0), pack-reused 0\u001b[K\n",
            "Unpacking objects: 100% (9/9), 93.94 KiB | 1.81 MiB/s, done.\n"
          ]
        }
      ]
    },
    {
      "cell_type": "markdown",
      "source": [
        "# Load Modules"
      ],
      "metadata": {
        "id": "lhIFeyzjjax1"
      }
    },
    {
      "cell_type": "code",
      "source": [
        "%cd /content/SEAL-Python\n",
        "\n",
        "import sys\n",
        "import time\n",
        "import math\n",
        "import numpy as np\n",
        "from seal import *"
      ],
      "metadata": {
        "colab": {
          "base_uri": "https://localhost:8080/"
        },
        "id": "Lg6fPJB8ocSN",
        "outputId": "c8200b84-14b9-41a5-bba0-d4673a81fa9f"
      },
      "execution_count": null,
      "outputs": [
        {
          "output_type": "stream",
          "name": "stdout",
          "text": [
            "/content/SEAL-Python\n"
          ]
        }
      ]
    },
    {
      "cell_type": "markdown",
      "source": [
        "# Homomorphic Encryption Parameters\n",
        "For encrypted inference, this demo uses the CKKS scheme which supports real number plaintext. HE parameters are as follows:\n",
        "\n",
        "* Polynomial Degree : 16384\n",
        "* Coefficient Modulus : [60, 40, 40, 40, 60]\n",
        "* Scale Factor (for encoding) : 2^40\n",
        "\n"
      ],
      "metadata": {
        "id": "7OxQVB7DGyzp"
      }
    },
    {
      "cell_type": "code",
      "source": [
        "parms = EncryptionParameters(scheme_type.ckks)\n",
        "poly_modulus_degree = 8192\n",
        "parms.set_poly_modulus_degree(poly_modulus_degree)\n",
        "parms.set_coeff_modulus(CoeffModulus.Create(poly_modulus_degree, [60, 40, 40, 60]))\n",
        "scale = 2.0**40\n",
        "context = SEALContext(parms)"
      ],
      "metadata": {
        "id": "yzuIiuoCGTh3"
      },
      "execution_count": null,
      "outputs": []
    },
    {
      "cell_type": "markdown",
      "source": [
        "# Various Classes for HE operations"
      ],
      "metadata": {
        "id": "sUi6XXQwjUjI"
      }
    },
    {
      "cell_type": "code",
      "source": [
        "ckks_encoder = CKKSEncoder(context)\n",
        "slot_count = ckks_encoder.slot_count()\n",
        "\n",
        "keygen = KeyGenerator(context)\n",
        "public_key = keygen.create_public_key()\n",
        "secret_key = keygen.secret_key()\n",
        "galois_keys = keygen.create_galois_keys()\n",
        "\n",
        "encryptor = Encryptor(context, public_key)\n",
        "evaluator = Evaluator(context)\n",
        "decryptor = Decryptor(context, secret_key)"
      ],
      "metadata": {
        "id": "j6U3wR78Gljp"
      },
      "execution_count": null,
      "outputs": []
    },
    {
      "cell_type": "markdown",
      "source": [
        "# Encrypt Single MNIST input to Single Ciphertext\n",
        "\n",
        "First, we need to define how to encrypt MNIST inputs to HE ciphertexts. 28 by 28 pixel image can be represented as real number vector with length 784 (with flatten). In our HE parameter, up to 4096 real numbers can be encrypted in a ciphertext. So we pad zero numbers to this input vector.\n",
        "\n",
        "```\n",
        "[a1, a2, ..., a784] -> [a1, a2, ..., a784, 0, 0, ..., 0]\n",
        "```\n",
        "\n",
        "## Optimization\n",
        "\n",
        "At matrix multiplication, inner product is key operation. In addition, a vector is encrypted in a single ciphertext. As we can do rotation in encrypted state, we can do summation of elements in this vector using log(n) number of rotations (for length of vector n)."
      ],
      "metadata": {
        "id": "FJwYzlq9LS47"
      }
    },
    {
      "cell_type": "code",
      "source": [
        "def encode_with_padding(x, s):\n",
        "  plain = [0.0] * slot_count\n",
        "  for i in range(len(x)):\n",
        "    plain[i] = x[i]\n",
        "  return ckks_encoder.encode(plain, s)\n",
        "\n",
        "def encrypt_with_padding(x, s):\n",
        "  encoded = encode_with_padding(x, s)\n",
        "  return encryptor.encrypt(encoded)\n",
        "\n",
        "def summation_of_first_1024_slots(ciphertext):\n",
        "  tmp = ciphertext\n",
        "  for i in range(10):\n",
        "    rotated = evaluator.rotate_vector(tmp, 2**i, galois_keys)\n",
        "    tmp = evaluator.add(tmp, rotated)\n",
        "  return tmp"
      ],
      "metadata": {
        "id": "9iE9teiQJFWC"
      },
      "execution_count": null,
      "outputs": []
    },
    {
      "cell_type": "markdown",
      "source": [
        "# Load MNIST model\n",
        "\n",
        "Prebuild MNIST model for demo. This model is simple model with 1 dense layer and custom activation function x^3. The accuracy of this model is about 90%."
      ],
      "metadata": {
        "id": "U4HYWgNDjzb1"
      }
    },
    {
      "cell_type": "code",
      "source": [
        "import tensorflow as tf\n",
        "model = tf.keras.models.load_model('/content/DemoForEyesOffDataSummit/mnist')\n",
        "model.summary()"
      ],
      "metadata": {
        "colab": {
          "base_uri": "https://localhost:8080/"
        },
        "id": "Ei7Oll5gJiQD",
        "outputId": "fc66c772-964d-4295-b59b-9d2cbdd1c074"
      },
      "execution_count": null,
      "outputs": [
        {
          "output_type": "stream",
          "name": "stdout",
          "text": [
            "Model: \"sequential\"\n",
            "_________________________________________________________________\n",
            " Layer (type)                Output Shape              Param #   \n",
            "=================================================================\n",
            " flatten (Flatten)           (None, 784)               0         \n",
            "                                                                 \n",
            " dense (Dense)               (None, 10)                7850      \n",
            "                                                                 \n",
            "=================================================================\n",
            "Total params: 7,850\n",
            "Trainable params: 7,850\n",
            "Non-trainable params: 0\n",
            "_________________________________________________________________\n"
          ]
        }
      ]
    },
    {
      "cell_type": "markdown",
      "source": [
        "# Encode Model Coefficients\n",
        "\n",
        "For encrypted inference, we need to encode model weights to polynomials."
      ],
      "metadata": {
        "id": "PwElZIWck_mB"
      }
    },
    {
      "cell_type": "code",
      "source": [
        "coeff = []\n",
        "w = model.weights[0].numpy()\n",
        "for i in range(10):\n",
        "  ith_coeff = [0.0] * 784\n",
        "  for j in range(784):\n",
        "    ith_coeff[j] = w[j][i]\n",
        "  coeff.append(ith_coeff)\n",
        "\n",
        "encoded_coeff = []\n",
        "for i in range(10):\n",
        "  encoded_coeff.append(encode_with_padding(coeff[i], scale))"
      ],
      "metadata": {
        "id": "s4wL5b7rTdVF"
      },
      "execution_count": null,
      "outputs": []
    },
    {
      "cell_type": "markdown",
      "source": [
        "# Define Functions for Encrypted Inference"
      ],
      "metadata": {
        "id": "2urZ-BfglJip"
      }
    },
    {
      "cell_type": "code",
      "source": [
        "w0 = model.weights[1].numpy()\n",
        "\n",
        "def encrypted_inference(encrypted_input):\n",
        "  encrypted_result = []\n",
        "  for i in range(10):\n",
        "    e1 = evaluator.multiply_plain(encrypted_input, encoded_coeff[i])\n",
        "    evaluator.rescale_to_next_inplace(e1)\n",
        "    e2 = summation_of_first_1024_slots(e1)\n",
        "    new_scale = e2.scale()\n",
        "    encoded_coeff0 = encode_with_padding([w0[i]], new_scale)\n",
        "    evaluator.mod_switch_to_next_inplace(encoded_coeff0)\n",
        "    e2 = evaluator.add_plain(e2, encoded_coeff0)\n",
        "    encrypted_result.append(e2)\n",
        "  return encrypted_result\n",
        "\n",
        "def decrypt_result(encrypted_result):\n",
        "  result = []\n",
        "  for i in range(10):\n",
        "    decoded = ckks_encoder.decode(decryptor.decrypt(encrypted_result[i]))\n",
        "    result.append(decoded[0])\n",
        "  return np.argmax(result)"
      ],
      "metadata": {
        "id": "WJ59onXRZbXj"
      },
      "execution_count": null,
      "outputs": []
    },
    {
      "cell_type": "markdown",
      "source": [
        "# Load Test Data"
      ],
      "metadata": {
        "id": "VjvoByholNwp"
      }
    },
    {
      "cell_type": "code",
      "source": [
        "# Load data for test\n",
        "(x_train, y_train),(x_test, y_test) = tf.keras.datasets.mnist.load_data()\n",
        "\n",
        "# Show data\n",
        "from matplotlib import pyplot as plt\n",
        "plt.imshow(x_test[0])"
      ],
      "metadata": {
        "colab": {
          "base_uri": "https://localhost:8080/",
          "height": 482
        },
        "id": "Ffv0C7F5d4e0",
        "outputId": "8ec74b2e-4040-4041-c6a2-297cae988855"
      },
      "execution_count": null,
      "outputs": [
        {
          "output_type": "stream",
          "name": "stdout",
          "text": [
            "Downloading data from https://storage.googleapis.com/tensorflow/tf-keras-datasets/mnist.npz\n",
            "11490434/11490434 [==============================] - 0s 0us/step\n"
          ]
        },
        {
          "output_type": "execute_result",
          "data": {
            "text/plain": [
              "<matplotlib.image.AxesImage at 0x7fd67df075b0>"
            ]
          },
          "metadata": {},
          "execution_count": 10
        },
        {
          "output_type": "display_data",
          "data": {
            "text/plain": [
              "<Figure size 640x480 with 1 Axes>"
            ],
            "image/png": "[encoded data removed]"
          },
          "metadata": {}
        }
      ]
    },
    {
      "cell_type": "markdown",
      "source": [
        "# Step1. Encrypt Input Image"
      ],
      "metadata": {
        "id": "jcECG9mSlRSz"
      }
    },
    {
      "cell_type": "code",
      "source": [
        "msg = x_test[0] / 255.0\n",
        "msg = msg.flatten()\n",
        "encrypted_input = encrypt_with_padding(msg, scale)"
      ],
      "metadata": {
        "id": "MdBc_dvEe46Q"
      },
      "execution_count": null,
      "outputs": []
    },
    {
      "cell_type": "markdown",
      "source": [
        "# Step2. Run Encrypted Inference"
      ],
      "metadata": {
        "id": "47Z-dPlclUsZ"
      }
    },
    {
      "cell_type": "code",
      "source": [
        "encrypted_result = encrypted_inference(encrypted_input)"
      ],
      "metadata": {
        "id": "ib-yv30bfFL9"
      },
      "execution_count": null,
      "outputs": []
    },
    {
      "cell_type": "markdown",
      "source": [
        "# Step3. Decrypt Encrypted Result and Compare"
      ],
      "metadata": {
        "id": "S5ax2cLflX-A"
      }
    },
    {
      "cell_type": "code",
      "source": [
        "result = decrypt_result(encrypted_result)\n",
        "\n",
        "# Result of encrypted inference\n",
        "print(result)\n",
        "\n",
        "# Label\n",
        "print(y_test[0])"
      ],
      "metadata": {
        "colab": {
          "base_uri": "https://localhost:8080/"
        },
        "id": "_L6bzXHdgLB5",
        "outputId": "f1c01ca4-5eae-46e4-dc1c-5765930f3a5c"
      },
      "execution_count": null,
      "outputs": [
        {
          "output_type": "stream",
          "name": "stdout",
          "text": [
            "7\n",
            "7\n"
          ]
        }
      ]
    },
    {
      "cell_type": "markdown",
      "source": [
        "# Compute the accuracy"
      ],
      "metadata": {
        "id": "BaQ5UVlxuId_"
      }
    },
    {
      "cell_type": "code",
      "source": [
        "n_test_imgs = 200\n",
        "n_images_between_prints = 20\n",
        "\n",
        "n_correct_predictions = 0\n",
        "for i in range(n_test_imgs):\n",
        "  if (i % n_images_between_prints) == 0 :\n",
        "    print(str(i) + ' / ' + str(n_test_imgs))\n",
        "  index = np.random.randint(0, len(x_test))\n",
        "  msg = x_test[index] / 255.0\n",
        "  msg = msg.flatten()\n",
        "  encrypted_input = encrypt_with_padding(msg, scale)\n",
        "  encrypted_result = encrypted_inference(encrypted_input)\n",
        "  result = decrypt_result(encrypted_result)\n",
        "  n_correct_predictions += (result == y_test[index])\n",
        "\n",
        "p = n_correct_predictions / n_test_imgs\n",
        "print('Estimated accuracy: ' + str(p) + '±'\n",
        "      + '%.2e' % (np.sqrt(p*(1-p)/n_test_imgs) + 1 / n_test_imgs))"
      ],
      "metadata": {
        "colab": {
          "base_uri": "https://localhost:8080/"
        },
        "id": "EMe0HUvVrB32",
        "outputId": "a714e804-5204-4e7e-aa02-97cfc335dc8b"
      },
      "execution_count": null,
      "outputs": [
        {
          "output_type": "stream",
          "name": "stdout",
          "text": [
            "0 / 200\n",
            "20 / 200\n",
            "40 / 200\n",
            "60 / 200\n",
            "80 / 200\n",
            "100 / 200\n",
            "120 / 200\n",
            "140 / 200\n",
            "160 / 200\n",
            "180 / 200\n",
            "Estimated accuracy: 0.905±2.57e-02\n"
          ]
        }
      ]
    },
    {
      "cell_type": "code",
      "source": [],
      "metadata": {
        "id": "2zDP23AvuXgc"
      },
      "execution_count": null,
      "outputs": []
    }
  ]
}